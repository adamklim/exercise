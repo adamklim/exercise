{
 "cells": [
  {
   "cell_type": "markdown",
   "metadata": {},
   "source": [
    "# Flight Booking Exercise"
   ]
  },
  {
   "cell_type": "markdown",
   "metadata": {},
   "source": [
    "## 1 Overview\n",
    "\n",
    "We, BookFlight, are an online platform where users can find and book flights for different airlines. Users choose the flight via the BookFlight website/App and directly pay (via CreditCard or PayPal) on our platform. Before their flight, users need to check in via the airline’s website/app or via a self-service kiosk at the airport. Users, as long as not checked in, can void their flight booking via our website/app – we will then pay back the full money to the user.\n",
    "\n",
    "To each airline, we send a Credit Note at the beginning of the month, covering all bookings for that airline for the previous month. We then pay the payment amount to the airline (as the user purchase the ticket via BookFlight and not directly via the airline)."
   ]
  },
  {
   "cell_type": "markdown",
   "metadata": {},
   "source": [
    "## 2 Database Tables"
   ]
  },
  {
   "cell_type": "markdown",
   "metadata": {},
   "source": [
    "<img src=\"table1.png\" style=\"width: 600px;\"/>\n",
    "<img src=\"table2.png\" style=\"width: 600px;\"/>\n",
    "<img src=\"table3.png\" style=\"width: 600px;\"/>\n",
    "\n"
   ]
  },
  {
   "cell_type": "markdown",
   "metadata": {},
   "source": [
    "## Business Rules\n",
    "* Credit notes and the respective payment are sent to all airlines at the first Tuesday of a calendar month\n",
    "\n",
    "* A credit note contains all bookings where the flight end date is in the previous calendar month. Only bookings that are checked in and not voided must be on a credit note  "
   ]
  },
  {
   "cell_type": "markdown",
   "metadata": {},
   "source": [
    "## Systems Overview & Considerations"
   ]
  },
  {
   "cell_type": "markdown",
   "metadata": {},
   "source": [
    "<img src=\"system_overview.png\" style=\"width: 500px;\"/>"
   ]
  },
  {
   "cell_type": "markdown",
   "metadata": {},
   "source": [
    "* The airline system connects to our host via a synchronous REST API\n",
    "* The self-service kiosk has offline capability (due to bad internet connection at the airport). It gets all bookings of the next 48 hours from our host; the user can then check in even if the kiosk is offline. The kiosk submits an XML file with all checked in bookings to our host every 5min; in case of connectivity problems, it submits the XML file(s) as soon as it’s back online."
   ]
  },
  {
   "cell_type": "markdown",
   "metadata": {},
   "source": [
    "## Questions\n",
    "Find example data in the attached Excel file.\n",
    "1. Which inconsistencies/errors do you find in the data and how can you explain them?\n",
    "2. Please write an SQL statement that ranks the September commission by passenger nationality\n",
    "3. How would you handle the following request: “We want to know how many % of users who voided their flight did void within 2 days of buying the ticket. Please run a query to find out whether the %age differs per airline”"
   ]
  },
  {
   "cell_type": "markdown",
   "metadata": {},
   "source": [
    "# Answers"
   ]
  },
  {
   "cell_type": "markdown",
   "metadata": {},
   "source": [
    "To complete this exercise I used [Jupyter notebook](http://jupyter.org/), which is convenient interactive tool for documenting and presenting data analysis. I used Python to import the data and as a visualization tool, and sqlite3 as a database (open source). SQL magic extension (%%sql) allows to execute SQL queries in Jupyter.\n",
    "For queries I also included alternative solutions, that can be used with commercial databases."
   ]
  },
  {
   "cell_type": "markdown",
   "metadata": {},
   "source": [
    "# Answer 1"
   ]
  },
  {
   "cell_type": "markdown",
   "metadata": {},
   "source": [
    "### Inconsistencies / errors\n",
    "* there is a _typo_ in Excel file in sheet name, an extra \"o\" in sheet name \"Boooking\""
   ]
  },
  {
   "cell_type": "markdown",
   "metadata": {},
   "source": [
    "### FlightStartUTC / FlightEndUTC datetime\n",
    "* Values in FlightStartUTC datetime column are missing seconds record, FlightEndUTC datetimes include seconds\n",
    "    - this can be due to different datetime format specified for the columns\n",
    "* FlightStartUTC:\n",
    "    - ID: 1 - possibly, flight start time not provided\n",
    "    - IDs: 7, 13, 15 - possibly incomplete times, only hour provided\n",
    "* FlightEndUTC:\n",
    "    - ID: 25 - possibly, flight end time not provided"
   ]
  },
  {
   "cell_type": "markdown",
   "metadata": {},
   "source": [
    "### Check if any passengers checked in and Status=\"voided\""
   ]
  },
  {
   "cell_type": "code",
   "execution_count": 2,
   "metadata": {},
   "outputs": [
    {
     "name": "stdout",
     "output_type": "stream",
     "text": [
      "Done.\n"
     ]
    },
    {
     "data": {
      "text/html": [
       "<table>\n",
       "    <tr>\n",
       "        <th>ID</th>\n",
       "        <th>FlightStartUTC</th>\n",
       "        <th>FlightEndUTC</th>\n",
       "        <th>PriceEUR</th>\n",
       "        <th>Commission</th>\n",
       "        <th>Status</th>\n",
       "        <th>VoidDate</th>\n",
       "        <th>Airline</th>\n",
       "        <th>PassengerNationality</th>\n",
       "        <th>CheckedIn</th>\n",
       "    </tr>\n",
       "    <tr>\n",
       "        <td>11</td>\n",
       "        <td>2017-09-07 07:12:00</td>\n",
       "        <td>2017-09-07 19:37:52</td>\n",
       "        <td>267.53</td>\n",
       "        <td>13.3765</td>\n",
       "        <td>voided</td>\n",
       "        <td>2017-09-06 20:36:44</td>\n",
       "        <td>Austrian</td>\n",
       "        <td>ITA</td>\n",
       "        <td>yes</td>\n",
       "    </tr>\n",
       "</table>"
      ],
      "text/plain": [
       "[(11, u'2017-09-07 07:12:00', u'2017-09-07 19:37:52', 267.53, 13.3765, u'voided', u'2017-09-06 20:36:44', u'Austrian', u'ITA', u'yes')]"
      ]
     },
     "execution_count": 2,
     "metadata": {},
     "output_type": "execute_result"
    }
   ],
   "source": [
    "%%sql\n",
    "\n",
    "SELECT * FROM booking\n",
    "WHERE checkedin like 'yes'\n",
    "AND status like 'voided'"
   ]
  },
  {
   "cell_type": "markdown",
   "metadata": {},
   "source": [
    "This is most likely due to passenger using self-service kiosk to check in, and kiosk being offline at the time of check in. Check in is usually available 24 hours before the flight, and in this case VoidDate is less than 11 hours before the flight. If the kiosk was offline for longer time period, it is possible that the passenger managed to check in, and then voided the ticket, most likely via an app on mobile connection, before kiosk re-established internet connection."
   ]
  },
  {
   "cell_type": "markdown",
   "metadata": {},
   "source": [
    "### Has anyone missed their flight?"
   ]
  },
  {
   "cell_type": "code",
   "execution_count": 3,
   "metadata": {},
   "outputs": [
    {
     "name": "stdout",
     "output_type": "stream",
     "text": [
      "Done.\n"
     ]
    },
    {
     "data": {
      "text/html": [
       "<table>\n",
       "    <tr>\n",
       "        <th>ID</th>\n",
       "        <th>FlightStartUTC</th>\n",
       "        <th>FlightEndUTC</th>\n",
       "        <th>PriceEUR</th>\n",
       "        <th>Commission</th>\n",
       "        <th>Status</th>\n",
       "        <th>VoidDate</th>\n",
       "        <th>Airline</th>\n",
       "        <th>PassengerNationality</th>\n",
       "        <th>CheckedIn</th>\n",
       "    </tr>\n",
       "    <tr>\n",
       "        <td>2</td>\n",
       "        <td>2017-08-23 21:36:00</td>\n",
       "        <td>2017-08-25 05:14:29</td>\n",
       "        <td>91.03</td>\n",
       "        <td>4.5515</td>\n",
       "        <td>issued</td>\n",
       "        <td>None</td>\n",
       "        <td>BA</td>\n",
       "        <td>AUT</td>\n",
       "        <td>no</td>\n",
       "    </tr>\n",
       "    <tr>\n",
       "        <td>3</td>\n",
       "        <td>2017-09-23 02:24:00</td>\n",
       "        <td>2017-09-24 00:01:44</td>\n",
       "        <td>359.35</td>\n",
       "        <td>17.9675</td>\n",
       "        <td>issued</td>\n",
       "        <td>None</td>\n",
       "        <td>Qatar</td>\n",
       "        <td>GER</td>\n",
       "        <td>no</td>\n",
       "    </tr>\n",
       "    <tr>\n",
       "        <td>6</td>\n",
       "        <td>2017-08-30 07:12:00</td>\n",
       "        <td>2017-08-31 09:45:27</td>\n",
       "        <td>548.3</td>\n",
       "        <td>27.415</td>\n",
       "        <td>issued</td>\n",
       "        <td>None</td>\n",
       "        <td>Qatar</td>\n",
       "        <td>FRA</td>\n",
       "        <td>no</td>\n",
       "    </tr>\n",
       "    <tr>\n",
       "        <td>9</td>\n",
       "        <td>2017-08-19 04:48:00</td>\n",
       "        <td>2017-08-20 09:24:41</td>\n",
       "        <td>451.89</td>\n",
       "        <td>22.5945</td>\n",
       "        <td>issued</td>\n",
       "        <td>None</td>\n",
       "        <td>BA</td>\n",
       "        <td>USA</td>\n",
       "        <td>no</td>\n",
       "    </tr>\n",
       "</table>"
      ],
      "text/plain": [
       "[(2, u'2017-08-23 21:36:00', u'2017-08-25 05:14:29', 91.03, 4.5515, u'issued', None, u'BA', u'AUT', u'no'),\n",
       " (3, u'2017-09-23 02:24:00', u'2017-09-24 00:01:44', 359.35, 17.9675, u'issued', None, u'Qatar', u'GER', u'no'),\n",
       " (6, u'2017-08-30 07:12:00', u'2017-08-31 09:45:27', 548.3, 27.415, u'issued', None, u'Qatar', u'FRA', u'no'),\n",
       " (9, u'2017-08-19 04:48:00', u'2017-08-20 09:24:41', 451.89, 22.5945, u'issued', None, u'BA', u'USA', u'no')]"
      ]
     },
     "execution_count": 3,
     "metadata": {},
     "output_type": "execute_result"
    }
   ],
   "source": [
    "%%sql\n",
    "\n",
    "SELECT * FROM booking\n",
    "WHERE checkedin like 'no'\n",
    "AND voiddate IS null"
   ]
  },
  {
   "cell_type": "markdown",
   "metadata": {
    "collapsed": true
   },
   "source": [
    "Looks like 4 passengers paid the flight, didn't make it to check in, and did not void the booking."
   ]
  },
  {
   "cell_type": "markdown",
   "metadata": {
    "collapsed": true
   },
   "source": [
    "### Is there any deviations in commission"
   ]
  },
  {
   "cell_type": "code",
   "execution_count": 4,
   "metadata": {},
   "outputs": [
    {
     "data": {
      "text/plain": [
       "<matplotlib.axes._subplots.AxesSubplot at 0x10c2a5090>"
      ]
     },
     "execution_count": 4,
     "metadata": {},
     "output_type": "execute_result"
    },
    {
     "data": {
      "image/png": "[encoded data removed]",
      "text/plain": [
       "<matplotlib.figure.Figure at 0x10c2a2d10>"
      ]
     },
     "metadata": {
      "image/png": {
       "height": 256,
       "width": 375
      }
     },
     "output_type": "display_data"
    }
   ],
   "source": [
    "sns.regplot(x=\"PriceEUR\", y=\"Commission\", data=booking, fit_reg=False)"
   ]
  },
  {
   "cell_type": "markdown",
   "metadata": {},
   "source": [
    "Commission is at constant 5% rate."
   ]
  },
  {
   "cell_type": "markdown",
   "metadata": {},
   "source": [
    "## CreditNote\n",
    "* PaymentDate not included\n",
    "* CreditNote covers 2 months - should be one month only.\n",
    "* the only correct PaymentAmount value on CreditNote was payment for Austrian in August. All other values were wrong due to incorrect query:\n",
    "    - Wrong datetime field (FlightStartUTC) chosen as indicator of payment period (should be FlightEndUTC).\n",
    "    - Voided bookings not excluded.\n",
    "    - Only checked in passengers included (payment should be made on all non-voided transactions)."
   ]
  },
  {
   "cell_type": "code",
   "execution_count": 5,
   "metadata": {},
   "outputs": [
    {
     "name": "stdout",
     "output_type": "stream",
     "text": [
      "Done.\n"
     ]
    },
    {
     "data": {
      "text/html": [
       "<table>\n",
       "    <tr>\n",
       "        <th>Airline</th>\n",
       "        <th>PaymentMonth</th>\n",
       "        <th>PaymentAmount</th>\n",
       "    </tr>\n",
       "    <tr>\n",
       "        <td>Austrian</td>\n",
       "        <td>August</td>\n",
       "        <td>747.821</td>\n",
       "    </tr>\n",
       "    <tr>\n",
       "        <td>BA</td>\n",
       "        <td>August</td>\n",
       "        <td>821.9875</td>\n",
       "    </tr>\n",
       "    <tr>\n",
       "        <td>Qatar</td>\n",
       "        <td>August</td>\n",
       "        <td>283.2805</td>\n",
       "    </tr>\n",
       "    <tr>\n",
       "        <td>Austrian</td>\n",
       "        <td>September</td>\n",
       "        <td>1495.585</td>\n",
       "    </tr>\n",
       "    <tr>\n",
       "        <td>BA</td>\n",
       "        <td>September</td>\n",
       "        <td>692.816</td>\n",
       "    </tr>\n",
       "    <tr>\n",
       "        <td>Qatar</td>\n",
       "        <td>September</td>\n",
       "        <td>867.464</td>\n",
       "    </tr>\n",
       "</table>"
      ],
      "text/plain": [
       "[(u'Austrian', u'August', 747.821),\n",
       " (u'BA', u'August', 821.9875),\n",
       " (u'Qatar', u'August', 283.2805),\n",
       " (u'Austrian', u'September', 1495.585),\n",
       " (u'BA', u'September', 692.816),\n",
       " (u'Qatar', u'September', 867.464)]"
      ]
     },
     "execution_count": 5,
     "metadata": {},
     "output_type": "execute_result"
    }
   ],
   "source": [
    "%%sql\n",
    "\n",
    "-- example of incorrect query that may have been used to generate the CreditNote (simplified for clarity)\n",
    "\n",
    "SELECT\n",
    "    airline,\n",
    "    CASE \n",
    "        WHEN flightstartutc BETWEEN '2017-08-01 00:00:00' AND '2017-08-31 23:59:59'\n",
    "        THEN 'August'\n",
    "        WHEN flightstartutc BETWEEN '2017-09-01 00:00:00' AND '2017-09-30 23:59:59'\n",
    "        THEN 'September'\n",
    "        ELSE 'other month'\n",
    "        END AS 'PaymentMonth',\n",
    "        SUM(priceeur-commission) as PaymentAmount\n",
    "FROM booking\n",
    "WHERE checkedin = 'yes'\n",
    "GROUP BY\n",
    "    paymentmonth,\n",
    "    airline;"
   ]
  },
  {
   "cell_type": "code",
   "execution_count": 6,
   "metadata": {},
   "outputs": [
    {
     "name": "stdout",
     "output_type": "stream",
     "text": [
      "Done.\n"
     ]
    },
    {
     "data": {
      "text/html": [
       "<table>\n",
       "    <tr>\n",
       "        <th>Airline</th>\n",
       "        <th>PaymentDate</th>\n",
       "        <th>PaymentMonth</th>\n",
       "        <th>PaymentAmount</th>\n",
       "    </tr>\n",
       "    <tr>\n",
       "        <td>Austrian</td>\n",
       "        <td>2017-08-01</td>\n",
       "        <td>August</td>\n",
       "        <td>747.821</td>\n",
       "    </tr>\n",
       "    <tr>\n",
       "        <td>BA</td>\n",
       "        <td>2017-08-01</td>\n",
       "        <td>August</td>\n",
       "        <td>1128.087</td>\n",
       "    </tr>\n",
       "    <tr>\n",
       "        <td>Qatar</td>\n",
       "        <td>2017-08-01</td>\n",
       "        <td>August</td>\n",
       "        <td>804.1655</td>\n",
       "    </tr>\n",
       "    <tr>\n",
       "        <td>Austrian</td>\n",
       "        <td>2017-09-05</td>\n",
       "        <td>September</td>\n",
       "        <td>1241.4315</td>\n",
       "    </tr>\n",
       "    <tr>\n",
       "        <td>BA</td>\n",
       "        <td>2017-09-05</td>\n",
       "        <td>September</td>\n",
       "        <td>902.4905</td>\n",
       "    </tr>\n",
       "    <tr>\n",
       "        <td>Qatar</td>\n",
       "        <td>2017-09-05</td>\n",
       "        <td>September</td>\n",
       "        <td>1208.8465</td>\n",
       "    </tr>\n",
       "</table>"
      ],
      "text/plain": [
       "[(u'Austrian', u'2017-08-01', u'August', 747.821),\n",
       " (u'BA', u'2017-08-01', u'August', 1128.087),\n",
       " (u'Qatar', u'2017-08-01', u'August', 804.1655000000001),\n",
       " (u'Austrian', u'2017-09-05', u'September', 1241.4315000000001),\n",
       " (u'BA', u'2017-09-05', u'September', 902.4905),\n",
       " (u'Qatar', u'2017-09-05', u'September', 1208.8465)]"
      ]
     },
     "execution_count": 6,
     "metadata": {},
     "output_type": "execute_result"
    }
   ],
   "source": [
    "%%sql\n",
    "\n",
    "-- corrected query (first Tuesday of month can be coded as function rather than static value,\n",
    "-- also PeriodStart, PeriodEnd replaced here with PaymentMonth to shorten code,\n",
    "-- both August and September included)\n",
    "\n",
    "SELECT\n",
    "    airline,\n",
    "    CASE \n",
    "        WHEN flightendutc BETWEEN '2017-08-01 00:00:00' AND '2017-08-31 23:59:59'\n",
    "        THEN '2017-08-01'\n",
    "        WHEN flightendutc BETWEEN '2017-09-01 00:00:00' AND '2017-09-30 23:59:59'\n",
    "        THEN '2017-09-05'\n",
    "        ELSE 'other month'\n",
    "        END AS 'PaymentDate',\n",
    "    CASE \n",
    "        WHEN flightendutc BETWEEN '2017-08-01 00:00:00' AND '2017-08-31 23:59:59'\n",
    "        THEN 'August'\n",
    "        WHEN flightendutc BETWEEN '2017-09-01 00:00:00' AND '2017-09-30 23:59:59'\n",
    "        THEN 'September'\n",
    "        ELSE 'other month'\n",
    "        END AS 'PaymentMonth',\n",
    "        SUM(priceeur-commission) as PaymentAmount\n",
    "FROM booking\n",
    "WHERE status != 'voided'\n",
    "GROUP BY\n",
    "    paymentmonth,\n",
    "    airline;"
   ]
  },
  {
   "cell_type": "markdown",
   "metadata": {},
   "source": [
    "## Answer 2\n",
    "Please write an SQL statement that ranks the September commission by passenger nationality"
   ]
  },
  {
   "cell_type": "code",
   "execution_count": 7,
   "metadata": {},
   "outputs": [
    {
     "name": "stdout",
     "output_type": "stream",
     "text": [
      "Done.\n"
     ]
    },
    {
     "data": {
      "text/html": [
       "<table>\n",
       "    <tr>\n",
       "        <th>PassengerNationality</th>\n",
       "        <th>Commission</th>\n",
       "    </tr>\n",
       "    <tr>\n",
       "        <td>AUT</td>\n",
       "        <td>35.67</td>\n",
       "    </tr>\n",
       "    <tr>\n",
       "        <td>FRA</td>\n",
       "        <td>61.4</td>\n",
       "    </tr>\n",
       "    <tr>\n",
       "        <td>GER</td>\n",
       "        <td>32.69</td>\n",
       "    </tr>\n",
       "    <tr>\n",
       "        <td>ITA</td>\n",
       "        <td>11.6</td>\n",
       "    </tr>\n",
       "    <tr>\n",
       "        <td>USA</td>\n",
       "        <td>35.1</td>\n",
       "    </tr>\n",
       "</table>"
      ],
      "text/plain": [
       "[(u'AUT', 35.67),\n",
       " (u'FRA', 61.4),\n",
       " (u'GER', 32.69),\n",
       " (u'ITA', 11.6),\n",
       " (u'USA', 35.1)]"
      ]
     },
     "execution_count": 7,
     "metadata": {},
     "output_type": "execute_result"
    }
   ],
   "source": [
    "%%sql\n",
    "\n",
    "SELECT\n",
    "    passengernationality,\n",
    "    ROUND(SUM(commission),2) as Commission\n",
    "FROM booking\n",
    "WHERE FlightEndUTC BETWEEN '2017-09-01 00:00:00' AND '2017-09-30 23:59:59'\n",
    "AND status != 'voided'\n",
    "GROUP BY passengernationality\n",
    "ORDER BY passengernationality;"
   ]
  },
  {
   "cell_type": "markdown",
   "metadata": {},
   "source": [
    "* Solution above ranks commission by passenger nationality, adding rank numbers is a little cumbersome in sqlite, in commercial databases (MS/Oracle) we could use RANK() to do just that."
   ]
  },
  {
   "cell_type": "code",
   "execution_count": null,
   "metadata": {
    "collapsed": true
   },
   "outputs": [],
   "source": [
    "%%sql\n",
    "\n",
    "SELECT\n",
    "    commission,\n",
    "    passengernationality,\n",
    "    RANK() OVER (ORDER BY passengernationality) as Rank\n",
    "FROM booking;\n",
    "WHERE FlightEndUTC BETWEEN '2017-09-01 00:00:00' AND '2017-09-30 23:59:59'\n",
    "AND status != 'voided';"
   ]
  },
  {
   "cell_type": "markdown",
   "metadata": {},
   "source": [
    "## Answer 3\n",
    "How would you handle the following request: “We want to know how many % of users who voided their flight did void within 2 days of buying the ticket. Please run a query to find out whether the %age differs per airline”"
   ]
  },
  {
   "cell_type": "markdown",
   "metadata": {},
   "source": [
    "* I assume that booking database/host system has a \"Purchase\" table where purchase details are recorded. \"Purchase\" table at minimum has transaction datetime unique ID for every transaction, same ID number is used in the \"Booking\" table for corresponing bookings."
   ]
  },
  {
   "cell_type": "code",
   "execution_count": null,
   "metadata": {
    "collapsed": true
   },
   "outputs": [],
   "source": [
    "%%sql\n",
    "\n",
    "-- sqlite3 syntax for datetime difference calculation used\n",
    "\n",
    "- part_1\n",
    "\n",
    "WITH t1 (ID, Airline, VoidTime) as (\n",
    "SELECT\n",
    "    b.id as id,\n",
    "    b.airline,\n",
    "    CASE \n",
    "        WHEN CAST(strftime('%s',b.voiddate)-strftime('%s',p.purchasedate) as float)/60/60/24 <=2\n",
    "        THEN 'early'\n",
    "        ELSE 'late'\n",
    "        END AS 'VoidTime'\n",
    "FROM \n",
    "    booking b, \n",
    "    purchase p\n",
    "WHERE \n",
    "    b.status ='voided'\n",
    "AND \n",
    "    b.id = p.id\n",
    "GROUP BY\n",
    "    b.id, airline, voidtime)\n",
    "\n",
    "\n",
    "-- part_2\n",
    "\n",
    "SELECT\n",
    "    t1.airline,\n",
    "    t1.voidtime,\n",
    "    CAST(COUNT(*) as float)/t2.total*100 as Percentage\n",
    "FROM\n",
    "    t1,(\n",
    "        SELECT\n",
    "            airline,\n",
    "            COUNT(voidtime) as total\n",
    "        FROM \n",
    "            t1\n",
    "        GROUP BY\n",
    "            airline\n",
    "        ) as t2\n",
    "WHERE\n",
    "    t1.airline = t2.airline\n",
    "GROUP BY\n",
    "    t1.airline, t1.voidtime;"
   ]
  },
  {
   "cell_type": "markdown",
   "metadata": {},
   "source": [
    "#### Alternative part_2 query (uses functions available in commercial databases)"
   ]
  },
  {
   "cell_type": "code",
   "execution_count": null,
   "metadata": {
    "collapsed": true
   },
   "outputs": [],
   "source": [
    "%%sql\n",
    "\n",
    "--part_2\n",
    "\n",
    "SELECT\n",
    "    airline,\n",
    "    voidtime,\n",
    "    COUNT(*) / CAST(SUM(count(*)) OVER (PARTITION BY airline) as float)*100\n",
    "FROM t1\n",
    "GROUP BY\n",
    "    airline,\n",
    "    voidtime"
   ]
  },
  {
   "cell_type": "code",
   "execution_count": 1,
   "metadata": {},
   "outputs": [
    {
     "data": {
      "text/plain": [
       "u'Connected: None@exercise.db'"
      ]
     },
     "execution_count": 1,
     "metadata": {},
     "output_type": "execute_result"
    }
   ],
   "source": [
    "'''\n",
    "Python code used to load data from Excel to SQL database\n",
    "'''\n",
    "\n",
    "import pandas as pd\n",
    "import sqlite3 as db\n",
    "import matplotlib.pyplot as plt\n",
    "import matplotlib.style\n",
    "import seaborn as sns\n",
    "\n",
    "\n",
    "# matplotlib and seaborn config (graphic output)\n",
    "%matplotlib inline\n",
    "%config InlineBackend.figure_format = 'retina'\n",
    "sns.set_style('whitegrid')\n",
    "sns.set_context('paper')\n",
    "\n",
    "# parsing data from Excel to pandas dataframe\n",
    "xls = pd.ExcelFile(\"./original_files/Exercise.xlsx\")\n",
    "booking = xls.parse('Boooking')\n",
    "creditnote = xls.parse('CreditNote')\n",
    "\n",
    "# removes milliseconds from FlightEndUTC datetime (added on import due to approx. of float values)\n",
    "booking.FlightEndUTC = booking.FlightEndUTC.values.astype('<M8[s]')\n",
    "\n",
    "# create database cursor\n",
    "conn = db.connect(\"exercise.db\")\n",
    "conn.text_factory = str\n",
    "c = conn.cursor()\n",
    "\n",
    "# create tables\n",
    "c.execute('''CREATE TABLE Booking (\n",
    "    ID INT PRIMARY KEY NOT NULL,\n",
    "    FlightStartUTC INTEGER,\n",
    "    FlightEndUTC INTEGER,\n",
    "    PriceEUR FLOAT,\n",
    "    Commission FLOAT,\n",
    "    Status TEXT,\n",
    "    VoidDate INTEGER,\n",
    "    Airline TEXT,\n",
    "    PassengerNationality TEXT,\n",
    "    CheckedIn TEXT\n",
    ");''')\n",
    "\n",
    "c.execute('''CREATE TABLE CreditNote (\n",
    "CreditNoteNo INT PRIMARY KEY NOT NULL,\n",
    "Airline TEXT,\n",
    "PaymentDate TEXT,\n",
    "PeriodStart TEXT,\n",
    "PeriodEnd TEXT,\n",
    "PaymentAmount FLOAT\n",
    ");''')\n",
    "\n",
    "# load data to database\n",
    "booking.to_sql('Booking', conn, if_exists='append', index=False)\n",
    "creditnote.to_sql('CreditNote', conn, if_exists='append', index=False)\n",
    "\n",
    "# loads the SQL magic extensions\n",
    "%load_ext sql\n",
    "\n",
    "#connect database\n",
    "%sql sqlite:///exercise.db"
   ]
  }
 ],
 "metadata": {
  "anaconda-cloud": {},
  "kernelspec": {
   "display_name": "Python 3",
   "language": "python",
   "name": "python3"
  },
  "language_info": {
   "codemirror_mode": {
    "name": "ipython",
    "version": 3
   },
   "file_extension": ".py",
   "mimetype": "text/x-python",
   "name": "python",
   "nbconvert_exporter": "python",
   "pygments_lexer": "ipython3",
   "version": "3.6.2"
  }
 },
 "nbformat": 4,
 "nbformat_minor": 2
}
